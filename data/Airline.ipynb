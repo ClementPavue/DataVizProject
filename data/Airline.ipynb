{
 "cells": [
  {
   "cell_type": "code",
   "execution_count": 40,
   "metadata": {
    "collapsed": true
   },
   "outputs": [],
   "source": [
    "import pandas as pd\n",
    "import matplotlib.pyplot as plt\n",
    "import numpy as np\n",
    "import seaborn as sns\n",
    "import requests\n",
    "import json\n",
    "from datetime import datetime, timedelta\n",
    "import time\n",
    "import math\n",
    "from collections import Counter"
   ]
  },
  {
   "cell_type": "code",
   "execution_count": 45,
   "metadata": {},
   "outputs": [
    {
     "data": {
      "text/html": [
       "<div>\n",
       "<style>\n",
       "    .dataframe thead tr:only-child th {\n",
       "        text-align: right;\n",
       "    }\n",
       "\n",
       "    .dataframe thead th {\n",
       "        text-align: left;\n",
       "    }\n",
       "\n",
       "    .dataframe tbody tr th {\n",
       "        vertical-align: top;\n",
       "    }\n",
       "</style>\n",
       "<table border=\"1\" class=\"dataframe\">\n",
       "  <thead>\n",
       "    <tr style=\"text-align: right;\">\n",
       "      <th></th>\n",
       "      <th>IATA_CODE</th>\n",
       "      <th>AIRLINE</th>\n",
       "    </tr>\n",
       "  </thead>\n",
       "  <tbody>\n",
       "    <tr>\n",
       "      <th>0</th>\n",
       "      <td>UA</td>\n",
       "      <td>United Air Lines Inc.</td>\n",
       "    </tr>\n",
       "    <tr>\n",
       "      <th>1</th>\n",
       "      <td>AA</td>\n",
       "      <td>American Airlines Inc.</td>\n",
       "    </tr>\n",
       "    <tr>\n",
       "      <th>2</th>\n",
       "      <td>US</td>\n",
       "      <td>US Airways Inc.</td>\n",
       "    </tr>\n",
       "    <tr>\n",
       "      <th>3</th>\n",
       "      <td>F9</td>\n",
       "      <td>Frontier Airlines Inc.</td>\n",
       "    </tr>\n",
       "    <tr>\n",
       "      <th>4</th>\n",
       "      <td>B6</td>\n",
       "      <td>JetBlue Airways</td>\n",
       "    </tr>\n",
       "  </tbody>\n",
       "</table>\n",
       "</div>"
      ],
      "text/plain": [
       "  IATA_CODE                 AIRLINE\n",
       "0        UA   United Air Lines Inc.\n",
       "1        AA  American Airlines Inc.\n",
       "2        US         US Airways Inc.\n",
       "3        F9  Frontier Airlines Inc.\n",
       "4        B6         JetBlue Airways"
      ]
     },
     "execution_count": 45,
     "metadata": {},
     "output_type": "execute_result"
    }
   ],
   "source": [
    "file_name = \"airlines.csv\"\n",
    "airlines_data = pd.read_csv(file_name)\n",
    "airlines_data.head()"
   ]
  },
  {
   "cell_type": "code",
   "execution_count": 46,
   "metadata": {},
   "outputs": [
    {
     "data": {
      "text/html": [
       "<div>\n",
       "<style>\n",
       "    .dataframe thead tr:only-child th {\n",
       "        text-align: right;\n",
       "    }\n",
       "\n",
       "    .dataframe thead th {\n",
       "        text-align: left;\n",
       "    }\n",
       "\n",
       "    .dataframe tbody tr th {\n",
       "        vertical-align: top;\n",
       "    }\n",
       "</style>\n",
       "<table border=\"1\" class=\"dataframe\">\n",
       "  <thead>\n",
       "    <tr style=\"text-align: right;\">\n",
       "      <th></th>\n",
       "      <th>MONTH</th>\n",
       "      <th>AIRLINE</th>\n",
       "      <th>ORIGIN_AIRPORT</th>\n",
       "      <th>DESTINATION_AIRPORT</th>\n",
       "      <th>AIR_TIME</th>\n",
       "      <th>DISTANCE</th>\n",
       "    </tr>\n",
       "  </thead>\n",
       "  <tbody>\n",
       "    <tr>\n",
       "      <th>0</th>\n",
       "      <td>1</td>\n",
       "      <td>AS</td>\n",
       "      <td>ANC</td>\n",
       "      <td>SEA</td>\n",
       "      <td>169.0</td>\n",
       "      <td>1448</td>\n",
       "    </tr>\n",
       "    <tr>\n",
       "      <th>1</th>\n",
       "      <td>1</td>\n",
       "      <td>AA</td>\n",
       "      <td>LAX</td>\n",
       "      <td>PBI</td>\n",
       "      <td>263.0</td>\n",
       "      <td>2330</td>\n",
       "    </tr>\n",
       "    <tr>\n",
       "      <th>2</th>\n",
       "      <td>1</td>\n",
       "      <td>US</td>\n",
       "      <td>SFO</td>\n",
       "      <td>CLT</td>\n",
       "      <td>266.0</td>\n",
       "      <td>2296</td>\n",
       "    </tr>\n",
       "    <tr>\n",
       "      <th>3</th>\n",
       "      <td>1</td>\n",
       "      <td>AA</td>\n",
       "      <td>LAX</td>\n",
       "      <td>MIA</td>\n",
       "      <td>258.0</td>\n",
       "      <td>2342</td>\n",
       "    </tr>\n",
       "    <tr>\n",
       "      <th>4</th>\n",
       "      <td>1</td>\n",
       "      <td>AS</td>\n",
       "      <td>SEA</td>\n",
       "      <td>ANC</td>\n",
       "      <td>199.0</td>\n",
       "      <td>1448</td>\n",
       "    </tr>\n",
       "  </tbody>\n",
       "</table>\n",
       "</div>"
      ],
      "text/plain": [
       "   MONTH AIRLINE ORIGIN_AIRPORT DESTINATION_AIRPORT  AIR_TIME  DISTANCE\n",
       "0      1      AS            ANC                 SEA     169.0      1448\n",
       "1      1      AA            LAX                 PBI     263.0      2330\n",
       "2      1      US            SFO                 CLT     266.0      2296\n",
       "3      1      AA            LAX                 MIA     258.0      2342\n",
       "4      1      AS            SEA                 ANC     199.0      1448"
      ]
     },
     "execution_count": 46,
     "metadata": {},
     "output_type": "execute_result"
    }
   ],
   "source": [
    "file_name = \"flights.csv\"\n",
    "flights_data = pd.read_csv(file_name, dtype={ 'YEAR': int, 'MONTH': int, 'DAY': int, 'DAY_OF_WEEK': int,\n",
    "                                             'AIRLINE': np.string_, 'FLIGHT_NUMBER': int, 'TAIL_NUMBER': np.string_, \n",
    "                                             'ORIGIN_AIRPORT': np.string_, 'DESTINATION_AIRPORT': np.string_, \n",
    "                                             'SCHEDULED_DEPARTURE': int, 'DEPARTURE_TIME': float,\n",
    "                                             'DEPARTURE_DELAY': float, 'TAXI_OUT': float, 'WHEELS_OFF': float,\n",
    "                                             'SCHEDULED_TIME': float, 'ELAPSED_TIME': float, 'AIR_TIME': float,\n",
    "                                             'DISTANCE': int, 'WHEELS_ON': float, 'TAXI_IN': float, 'SCHEDULED_ARRIVAL': int,\n",
    "                                             'ARRIVAL_TIME': float, 'ARRIVAL_DELAY': float, 'DIVERTED': int, 'CANCELLED': int,\n",
    "                                             'CANCELLATION_REASON': np.string_, 'AIR_SYSTEM_DELAY': float, 'SECURITY_DELAY': float, \n",
    "                                             'AIRLINE_DELAY': float,'LATE_AIRCRAFT_DELAY': float,'WEATHER_DELAY': float,},\n",
    "                          usecols=[1,4,7,8,16,17])\n",
    "flights_data.head()"
   ]
  },
  {
   "cell_type": "code",
   "execution_count": 47,
   "metadata": {},
   "outputs": [
    {
     "data": {
      "text/html": [
       "<div>\n",
       "<style>\n",
       "    .dataframe thead tr:only-child th {\n",
       "        text-align: right;\n",
       "    }\n",
       "\n",
       "    .dataframe thead th {\n",
       "        text-align: left;\n",
       "    }\n",
       "\n",
       "    .dataframe tbody tr th {\n",
       "        vertical-align: top;\n",
       "    }\n",
       "</style>\n",
       "<table border=\"1\" class=\"dataframe\">\n",
       "  <thead>\n",
       "    <tr style=\"text-align: right;\">\n",
       "      <th></th>\n",
       "      <th>MONTH</th>\n",
       "      <th>IATA_CODE</th>\n",
       "      <th>ORIGIN_AIRPORT</th>\n",
       "      <th>DESTINATION_AIRPORT</th>\n",
       "      <th>AIR_TIME</th>\n",
       "      <th>DISTANCE</th>\n",
       "      <th>AIRLINE</th>\n",
       "    </tr>\n",
       "  </thead>\n",
       "  <tbody>\n",
       "    <tr>\n",
       "      <th>0</th>\n",
       "      <td>6</td>\n",
       "      <td>NK</td>\n",
       "      <td>LAS</td>\n",
       "      <td>IAH</td>\n",
       "      <td>149.0</td>\n",
       "      <td>1222</td>\n",
       "      <td>Spirit Air Lines</td>\n",
       "    </tr>\n",
       "    <tr>\n",
       "      <th>1</th>\n",
       "      <td>6</td>\n",
       "      <td>AA</td>\n",
       "      <td>SEA</td>\n",
       "      <td>DFW</td>\n",
       "      <td>217.0</td>\n",
       "      <td>1660</td>\n",
       "      <td>American Airlines Inc.</td>\n",
       "    </tr>\n",
       "    <tr>\n",
       "      <th>2</th>\n",
       "      <td>6</td>\n",
       "      <td>DL</td>\n",
       "      <td>ANC</td>\n",
       "      <td>SLC</td>\n",
       "      <td>261.0</td>\n",
       "      <td>2125</td>\n",
       "      <td>Delta Air Lines Inc.</td>\n",
       "    </tr>\n",
       "    <tr>\n",
       "      <th>3</th>\n",
       "      <td>6</td>\n",
       "      <td>US</td>\n",
       "      <td>SLC</td>\n",
       "      <td>CLT</td>\n",
       "      <td>202.0</td>\n",
       "      <td>1727</td>\n",
       "      <td>US Airways Inc.</td>\n",
       "    </tr>\n",
       "    <tr>\n",
       "      <th>4</th>\n",
       "      <td>6</td>\n",
       "      <td>F9</td>\n",
       "      <td>LAS</td>\n",
       "      <td>IAD</td>\n",
       "      <td>250.0</td>\n",
       "      <td>2065</td>\n",
       "      <td>Frontier Airlines Inc.</td>\n",
       "    </tr>\n",
       "  </tbody>\n",
       "</table>\n",
       "</div>"
      ],
      "text/plain": [
       "   MONTH IATA_CODE ORIGIN_AIRPORT DESTINATION_AIRPORT  AIR_TIME  DISTANCE  \\\n",
       "0      6        NK            LAS                 IAH     149.0      1222   \n",
       "1      6        AA            SEA                 DFW     217.0      1660   \n",
       "2      6        DL            ANC                 SLC     261.0      2125   \n",
       "3      6        US            SLC                 CLT     202.0      1727   \n",
       "4      6        F9            LAS                 IAD     250.0      2065   \n",
       "\n",
       "                  AIRLINE  \n",
       "0        Spirit Air Lines  \n",
       "1  American Airlines Inc.  \n",
       "2    Delta Air Lines Inc.  \n",
       "3         US Airways Inc.  \n",
       "4  Frontier Airlines Inc.  "
      ]
     },
     "execution_count": 47,
     "metadata": {},
     "output_type": "execute_result"
    }
   ],
   "source": [
    "flights_data = flights_data[flights_data.MONTH.isin([6])]\n",
    "flights_data = pd.merge(flights_data, airlines_data, left_on='AIRLINE', right_on='IATA_CODE', how='left')\n",
    "flights_data.drop('IATA_CODE', axis=1, inplace=True)\n",
    "flights_data.rename(columns={'AIRLINE_x': 'IATA_CODE','AIRLINE_y': 'AIRLINE'}, inplace=True)\n",
    "flights_data.head()"
   ]
  },
  {
   "cell_type": "code",
   "execution_count": 48,
   "metadata": {},
   "outputs": [
    {
     "data": {
      "text/html": [
       "<div>\n",
       "<style>\n",
       "    .dataframe thead tr:only-child th {\n",
       "        text-align: right;\n",
       "    }\n",
       "\n",
       "    .dataframe thead th {\n",
       "        text-align: left;\n",
       "    }\n",
       "\n",
       "    .dataframe tbody tr th {\n",
       "        vertical-align: top;\n",
       "    }\n",
       "</style>\n",
       "<table border=\"1\" class=\"dataframe\">\n",
       "  <thead>\n",
       "    <tr style=\"text-align: right;\">\n",
       "      <th></th>\n",
       "      <th>MONTH</th>\n",
       "      <th>IATA_CODE</th>\n",
       "      <th>ORIGIN_AIRPORT</th>\n",
       "      <th>DESTINATION_AIRPORT</th>\n",
       "      <th>AIR_TIME</th>\n",
       "      <th>DISTANCE</th>\n",
       "      <th>AIRLINE</th>\n",
       "      <th>SPEED</th>\n",
       "    </tr>\n",
       "  </thead>\n",
       "  <tbody>\n",
       "    <tr>\n",
       "      <th>0</th>\n",
       "      <td>6</td>\n",
       "      <td>NK</td>\n",
       "      <td>LAS</td>\n",
       "      <td>IAH</td>\n",
       "      <td>149.0</td>\n",
       "      <td>1222</td>\n",
       "      <td>Spirit Air Lines</td>\n",
       "      <td>791.926862</td>\n",
       "    </tr>\n",
       "    <tr>\n",
       "      <th>1</th>\n",
       "      <td>6</td>\n",
       "      <td>AA</td>\n",
       "      <td>SEA</td>\n",
       "      <td>DFW</td>\n",
       "      <td>217.0</td>\n",
       "      <td>1660</td>\n",
       "      <td>American Airlines Inc.</td>\n",
       "      <td>738.666650</td>\n",
       "    </tr>\n",
       "    <tr>\n",
       "      <th>2</th>\n",
       "      <td>6</td>\n",
       "      <td>DL</td>\n",
       "      <td>ANC</td>\n",
       "      <td>SLC</td>\n",
       "      <td>261.0</td>\n",
       "      <td>2125</td>\n",
       "      <td>Delta Air Lines Inc.</td>\n",
       "      <td>786.173796</td>\n",
       "    </tr>\n",
       "    <tr>\n",
       "      <th>3</th>\n",
       "      <td>6</td>\n",
       "      <td>US</td>\n",
       "      <td>SLC</td>\n",
       "      <td>CLT</td>\n",
       "      <td>202.0</td>\n",
       "      <td>1727</td>\n",
       "      <td>US Airways Inc.</td>\n",
       "      <td>825.545673</td>\n",
       "    </tr>\n",
       "    <tr>\n",
       "      <th>4</th>\n",
       "      <td>6</td>\n",
       "      <td>F9</td>\n",
       "      <td>LAS</td>\n",
       "      <td>IAD</td>\n",
       "      <td>250.0</td>\n",
       "      <td>2065</td>\n",
       "      <td>Frontier Airlines Inc.</td>\n",
       "      <td>797.590889</td>\n",
       "    </tr>\n",
       "  </tbody>\n",
       "</table>\n",
       "</div>"
      ],
      "text/plain": [
       "   MONTH IATA_CODE ORIGIN_AIRPORT DESTINATION_AIRPORT  AIR_TIME  DISTANCE  \\\n",
       "0      6        NK            LAS                 IAH     149.0      1222   \n",
       "1      6        AA            SEA                 DFW     217.0      1660   \n",
       "2      6        DL            ANC                 SLC     261.0      2125   \n",
       "3      6        US            SLC                 CLT     202.0      1727   \n",
       "4      6        F9            LAS                 IAD     250.0      2065   \n",
       "\n",
       "                  AIRLINE       SPEED  \n",
       "0        Spirit Air Lines  791.926862  \n",
       "1  American Airlines Inc.  738.666650  \n",
       "2    Delta Air Lines Inc.  786.173796  \n",
       "3         US Airways Inc.  825.545673  \n",
       "4  Frontier Airlines Inc.  797.590889  "
      ]
     },
     "execution_count": 48,
     "metadata": {},
     "output_type": "execute_result"
    }
   ],
   "source": [
    "flights_data['SPEED'] = (60*flights_data['DISTANCE'])/(0.62137119*flights_data['AIR_TIME'])\n",
    "flights_data.head()"
   ]
  },
  {
   "cell_type": "code",
   "execution_count": 49,
   "metadata": {
    "collapsed": true
   },
   "outputs": [],
   "source": [
    "d = {'ORIGIN_AIRPORT': flights_data.ORIGIN_AIRPORT, 'IATA_CODE': flights_data.IATA_CODE, 'AIRLINE': flights_data.AIRLINE, 'SPEED': flights_data.SPEED}\n",
    "df = pd.DataFrame(data=d)\n",
    "df.to_csv(\"speed.csv\", encoding='utf-8', index=False)"
   ]
  },
  {
   "cell_type": "code",
   "execution_count": 13,
   "metadata": {},
   "outputs": [
    {
     "data": {
      "image/png": "[encoded data removed]",
      "text/plain": [
       "<matplotlib.figure.Figure at 0x10aafd048>"
      ]
     },
     "metadata": {},
     "output_type": "display_data"
    }
   ],
   "source": [
    "sns.set_context(\"notebook\", font_scale=2.5)\n",
    "sns.set(style=\"ticks\", palette=\"muted\", color_codes=True)\n",
    "ax = sns.violinplot(x=\"SPEED\", y=\"AIRLINE\", data=flights_data)\n",
    "sns.despine(trim=True)\n",
    "plt.show()"
   ]
  },
  {
   "cell_type": "code",
   "execution_count": 20,
   "metadata": {
    "collapsed": true
   },
   "outputs": [],
   "source": [
    "codes = []\n",
    "values = []\n",
    "for airline in airlines_data.IATA_CODE:\n",
    "    airline_describe = flights_data.SPEED[flights_data.IATA_CODE == airline].describe()\n",
    "    for i in range(5):\n",
    "        codes.append(airline)\n",
    "    values.append(airline_describe['min'])\n",
    "    values.append(airline_describe['25%'])\n",
    "    values.append(airline_describe['50%'])\n",
    "    values.append(airline_describe['75%'])\n",
    "    values.append(airline_describe['max'])\n",
    "\n",
    "d = {'IATA_CODE': codes, 'SPEED': values}\n",
    "df = pd.DataFrame(data=d)\n",
    "df.to_csv(\"speed.csv\", encoding='utf-8', index=False)"
   ]
  },
  {
   "cell_type": "code",
   "execution_count": 8,
   "metadata": {},
   "outputs": [
    {
     "data": {
      "text/plain": [
       "count    194223.000000\n",
       "mean        661.614993\n",
       "std         111.044888\n",
       "min         151.964286\n",
       "25%         598.120225\n",
       "50%         667.045343\n",
       "75%         731.101991\n",
       "max        1126.669552\n",
       "Name: SPEED, dtype: float64"
      ]
     },
     "execution_count": 8,
     "metadata": {},
     "output_type": "execute_result"
    }
   ],
   "source": [
    "aa = flights_data.SPEED[flights_data.IATA_CODE == 'AA'].describe()"
   ]
  },
  {
   "cell_type": "code",
   "execution_count": 15,
   "metadata": {},
   "outputs": [
    {
     "data": {
      "text/plain": [
       "688.28317254778403"
      ]
     },
     "execution_count": 15,
     "metadata": {},
     "output_type": "execute_result"
    }
   ],
   "source": [
    "aa['mean']"
   ]
  },
  {
   "cell_type": "code",
   "execution_count": 21,
   "metadata": {},
   "outputs": [
    {
     "data": {
      "text/plain": [
       "count    712935.000000\n",
       "mean        688.283173\n",
       "std         104.144824\n",
       "min         128.090645\n",
       "25%         631.585413\n",
       "50%         701.718078\n",
       "75%         757.629640\n",
       "max        1266.190332\n",
       "Name: SPEED, dtype: float64"
      ]
     },
     "execution_count": 21,
     "metadata": {},
     "output_type": "execute_result"
    }
   ],
   "source": [
    "aa"
   ]
  },
  {
   "cell_type": "code",
   "execution_count": null,
   "metadata": {
    "collapsed": true
   },
   "outputs": [],
   "source": []
  }
 ],
 "metadata": {
  "kernelspec": {
   "display_name": "Python 3",
   "language": "python",
   "name": "python3"
  },
  "language_info": {
   "codemirror_mode": {
    "name": "ipython",
    "version": 3
   },
   "file_extension": ".py",
   "mimetype": "text/x-python",
   "name": "python",
   "nbconvert_exporter": "python",
   "pygments_lexer": "ipython3",
   "version": "3.6.1"
  }
 },
 "nbformat": 4,
 "nbformat_minor": 2
}
