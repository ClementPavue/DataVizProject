{
 "cells": [
  {
   "cell_type": "code",
   "execution_count": 72,
   "metadata": {
    "collapsed": true
   },
   "outputs": [],
   "source": [
    "import pandas as pd\n",
    "import matplotlib.pyplot as plt\n",
    "import numpy as np\n",
    "import math\n",
    "from collections import Counter"
   ]
  },
  {
   "cell_type": "code",
   "execution_count": 73,
   "metadata": {},
   "outputs": [
    {
     "data": {
      "text/html": [
       "<div>\n",
       "<style>\n",
       "    .dataframe thead tr:only-child th {\n",
       "        text-align: right;\n",
       "    }\n",
       "\n",
       "    .dataframe thead th {\n",
       "        text-align: left;\n",
       "    }\n",
       "\n",
       "    .dataframe tbody tr th {\n",
       "        vertical-align: top;\n",
       "    }\n",
       "</style>\n",
       "<table border=\"1\" class=\"dataframe\">\n",
       "  <thead>\n",
       "    <tr style=\"text-align: right;\">\n",
       "      <th></th>\n",
       "      <th>MONTH</th>\n",
       "      <th>AIRLINE</th>\n",
       "      <th>ORIGIN_AIRPORT</th>\n",
       "      <th>DESTINATION_AIRPORT</th>\n",
       "    </tr>\n",
       "  </thead>\n",
       "  <tbody>\n",
       "    <tr>\n",
       "      <th>0</th>\n",
       "      <td>1</td>\n",
       "      <td>AS</td>\n",
       "      <td>ANC</td>\n",
       "      <td>SEA</td>\n",
       "    </tr>\n",
       "    <tr>\n",
       "      <th>1</th>\n",
       "      <td>1</td>\n",
       "      <td>AA</td>\n",
       "      <td>LAX</td>\n",
       "      <td>PBI</td>\n",
       "    </tr>\n",
       "    <tr>\n",
       "      <th>2</th>\n",
       "      <td>1</td>\n",
       "      <td>US</td>\n",
       "      <td>SFO</td>\n",
       "      <td>CLT</td>\n",
       "    </tr>\n",
       "    <tr>\n",
       "      <th>3</th>\n",
       "      <td>1</td>\n",
       "      <td>AA</td>\n",
       "      <td>LAX</td>\n",
       "      <td>MIA</td>\n",
       "    </tr>\n",
       "    <tr>\n",
       "      <th>4</th>\n",
       "      <td>1</td>\n",
       "      <td>AS</td>\n",
       "      <td>SEA</td>\n",
       "      <td>ANC</td>\n",
       "    </tr>\n",
       "  </tbody>\n",
       "</table>\n",
       "</div>"
      ],
      "text/plain": [
       "   MONTH AIRLINE ORIGIN_AIRPORT DESTINATION_AIRPORT\n",
       "0      1      AS            ANC                 SEA\n",
       "1      1      AA            LAX                 PBI\n",
       "2      1      US            SFO                 CLT\n",
       "3      1      AA            LAX                 MIA\n",
       "4      1      AS            SEA                 ANC"
      ]
     },
     "execution_count": 73,
     "metadata": {},
     "output_type": "execute_result"
    }
   ],
   "source": [
    "file_name = \"flights.csv\"\n",
    "flights_data = pd.read_csv(file_name, dtype={ 'YEAR': int, 'MONTH': int, 'DAY': int, 'DAY_OF_WEEK': int,\n",
    "                                             'AIRLINE': np.string_, 'FLIGHT_NUMBER': int, 'TAIL_NUMBER': np.string_, \n",
    "                                             'ORIGIN_AIRPORT': np.string_, 'DESTINATION_AIRPORT': np.string_, \n",
    "                                             'SCHEDULED_DEPARTURE': int, 'DEPARTURE_TIME': float,\n",
    "                                             'DEPARTURE_DELAY': float, 'TAXI_OUT': float, 'WHEELS_OFF': float,\n",
    "                                             'SCHEDULED_TIME': float, 'ELAPSED_TIME': float, 'AIR_TIME': float,\n",
    "                                             'DISTANCE': int, 'WHEELS_ON': float, 'TAXI_IN': float, 'SCHEDULED_ARRIVAL': int,\n",
    "                                             'ARRIVAL_TIME': float, 'ARRIVAL_DELAY': float, 'DIVERTED': int, 'CANCELLED': int,\n",
    "                                             'CANCELLATION_REASON': np.string_, 'AIR_SYSTEM_DELAY': float, 'SECURITY_DELAY': float, \n",
    "                                             'AIRLINE_DELAY': float,'LATE_AIRCRAFT_DELAY': float,'WEATHER_DELAY': float,},\n",
    "                          usecols=[1,4,7,8])\n",
    "flights_data.head()"
   ]
  },
  {
   "cell_type": "code",
   "execution_count": 74,
   "metadata": {
    "collapsed": true
   },
   "outputs": [],
   "source": [
    "f = flights_data.copy()\n",
    "flights_data = f.copy()\n",
    "flights_data = flights_data[flights_data.MONTH == 6]"
   ]
  },
  {
   "cell_type": "code",
   "execution_count": 75,
   "metadata": {},
   "outputs": [
    {
     "data": {
      "text/html": [
       "<div>\n",
       "<style>\n",
       "    .dataframe thead tr:only-child th {\n",
       "        text-align: right;\n",
       "    }\n",
       "\n",
       "    .dataframe thead th {\n",
       "        text-align: left;\n",
       "    }\n",
       "\n",
       "    .dataframe tbody tr th {\n",
       "        vertical-align: top;\n",
       "    }\n",
       "</style>\n",
       "<table border=\"1\" class=\"dataframe\">\n",
       "  <thead>\n",
       "    <tr style=\"text-align: right;\">\n",
       "      <th></th>\n",
       "      <th>MONTH</th>\n",
       "      <th>AIRLINE</th>\n",
       "      <th>ORIGIN_AIRPORT</th>\n",
       "      <th>DESTINATION_AIRPORT</th>\n",
       "    </tr>\n",
       "  </thead>\n",
       "  <tbody>\n",
       "    <tr>\n",
       "      <th>2385615</th>\n",
       "      <td>6</td>\n",
       "      <td>NK</td>\n",
       "      <td>LAS</td>\n",
       "      <td>IAH</td>\n",
       "    </tr>\n",
       "    <tr>\n",
       "      <th>2385616</th>\n",
       "      <td>6</td>\n",
       "      <td>AA</td>\n",
       "      <td>SEA</td>\n",
       "      <td>DFW</td>\n",
       "    </tr>\n",
       "    <tr>\n",
       "      <th>2385617</th>\n",
       "      <td>6</td>\n",
       "      <td>DL</td>\n",
       "      <td>ANC</td>\n",
       "      <td>SLC</td>\n",
       "    </tr>\n",
       "    <tr>\n",
       "      <th>2385618</th>\n",
       "      <td>6</td>\n",
       "      <td>US</td>\n",
       "      <td>SLC</td>\n",
       "      <td>CLT</td>\n",
       "    </tr>\n",
       "    <tr>\n",
       "      <th>2385619</th>\n",
       "      <td>6</td>\n",
       "      <td>F9</td>\n",
       "      <td>LAS</td>\n",
       "      <td>IAD</td>\n",
       "    </tr>\n",
       "  </tbody>\n",
       "</table>\n",
       "</div>"
      ],
      "text/plain": [
       "         MONTH AIRLINE ORIGIN_AIRPORT DESTINATION_AIRPORT\n",
       "2385615      6      NK            LAS                 IAH\n",
       "2385616      6      AA            SEA                 DFW\n",
       "2385617      6      DL            ANC                 SLC\n",
       "2385618      6      US            SLC                 CLT\n",
       "2385619      6      F9            LAS                 IAD"
      ]
     },
     "execution_count": 75,
     "metadata": {},
     "output_type": "execute_result"
    }
   ],
   "source": [
    "flights_data.head()"
   ]
  },
  {
   "cell_type": "code",
   "execution_count": 76,
   "metadata": {},
   "outputs": [
    {
     "data": {
      "text/plain": [
       "503897"
      ]
     },
     "execution_count": 76,
     "metadata": {},
     "output_type": "execute_result"
    }
   ],
   "source": [
    "flights_data = flights_data.drop('MONTH', axis=1)\n",
    "flights_data2 = flights_data.copy()\n",
    "flights_data = flights_data.drop('AIRLINE', axis=1)\n",
    "len(flights_data)"
   ]
  },
  {
   "cell_type": "code",
   "execution_count": 77,
   "metadata": {},
   "outputs": [
    {
     "data": {
      "text/plain": [
       "4122"
      ]
     },
     "execution_count": 77,
     "metadata": {},
     "output_type": "execute_result"
    }
   ],
   "source": [
    "flights_data = flights_data.drop_duplicates()\n",
    "len(flights_data)"
   ]
  },
  {
   "cell_type": "code",
   "execution_count": 78,
   "metadata": {},
   "outputs": [
    {
     "data": {
      "text/html": [
       "<div>\n",
       "<style>\n",
       "    .dataframe thead tr:only-child th {\n",
       "        text-align: right;\n",
       "    }\n",
       "\n",
       "    .dataframe thead th {\n",
       "        text-align: left;\n",
       "    }\n",
       "\n",
       "    .dataframe tbody tr th {\n",
       "        vertical-align: top;\n",
       "    }\n",
       "</style>\n",
       "<table border=\"1\" class=\"dataframe\">\n",
       "  <thead>\n",
       "    <tr style=\"text-align: right;\">\n",
       "      <th></th>\n",
       "      <th>ORIGIN_AIRPORT</th>\n",
       "      <th>DESTINATION_AIRPORT</th>\n",
       "    </tr>\n",
       "  </thead>\n",
       "  <tbody>\n",
       "    <tr>\n",
       "      <th>2385615</th>\n",
       "      <td>LAS</td>\n",
       "      <td>IAH</td>\n",
       "    </tr>\n",
       "    <tr>\n",
       "      <th>2385616</th>\n",
       "      <td>SEA</td>\n",
       "      <td>DFW</td>\n",
       "    </tr>\n",
       "    <tr>\n",
       "      <th>2385617</th>\n",
       "      <td>ANC</td>\n",
       "      <td>SLC</td>\n",
       "    </tr>\n",
       "    <tr>\n",
       "      <th>2385618</th>\n",
       "      <td>SLC</td>\n",
       "      <td>CLT</td>\n",
       "    </tr>\n",
       "    <tr>\n",
       "      <th>2385619</th>\n",
       "      <td>LAS</td>\n",
       "      <td>IAD</td>\n",
       "    </tr>\n",
       "  </tbody>\n",
       "</table>\n",
       "</div>"
      ],
      "text/plain": [
       "        ORIGIN_AIRPORT DESTINATION_AIRPORT\n",
       "2385615            LAS                 IAH\n",
       "2385616            SEA                 DFW\n",
       "2385617            ANC                 SLC\n",
       "2385618            SLC                 CLT\n",
       "2385619            LAS                 IAD"
      ]
     },
     "execution_count": 78,
     "metadata": {},
     "output_type": "execute_result"
    }
   ],
   "source": [
    "flights_data.head()"
   ]
  },
  {
   "cell_type": "code",
   "execution_count": 79,
   "metadata": {
    "collapsed": true
   },
   "outputs": [],
   "source": [
    "d = {'ORIGIN_AIRPORT': flights_data.ORIGIN_AIRPORT, 'DESTINATION_AIRPORT': flights_data.DESTINATION_AIRPORT}\n",
    "df = pd.DataFrame(data=d)\n",
    "df.to_csv(\"trace.csv\", encoding='utf-8', index=False)"
   ]
  },
  {
   "cell_type": "code",
   "execution_count": 80,
   "metadata": {},
   "outputs": [
    {
     "data": {
      "text/html": [
       "<div>\n",
       "<style>\n",
       "    .dataframe thead tr:only-child th {\n",
       "        text-align: right;\n",
       "    }\n",
       "\n",
       "    .dataframe thead th {\n",
       "        text-align: left;\n",
       "    }\n",
       "\n",
       "    .dataframe tbody tr th {\n",
       "        vertical-align: top;\n",
       "    }\n",
       "</style>\n",
       "<table border=\"1\" class=\"dataframe\">\n",
       "  <thead>\n",
       "    <tr style=\"text-align: right;\">\n",
       "      <th></th>\n",
       "      <th>AIRLINE</th>\n",
       "      <th>ORIGIN_AIRPORT</th>\n",
       "      <th>DESTINATION_AIRPORT</th>\n",
       "    </tr>\n",
       "  </thead>\n",
       "  <tbody>\n",
       "    <tr>\n",
       "      <th>2385615</th>\n",
       "      <td>NK</td>\n",
       "      <td>LAS</td>\n",
       "      <td>IAH</td>\n",
       "    </tr>\n",
       "    <tr>\n",
       "      <th>2385616</th>\n",
       "      <td>AA</td>\n",
       "      <td>SEA</td>\n",
       "      <td>DFW</td>\n",
       "    </tr>\n",
       "    <tr>\n",
       "      <th>2385617</th>\n",
       "      <td>DL</td>\n",
       "      <td>ANC</td>\n",
       "      <td>SLC</td>\n",
       "    </tr>\n",
       "    <tr>\n",
       "      <th>2385618</th>\n",
       "      <td>US</td>\n",
       "      <td>SLC</td>\n",
       "      <td>CLT</td>\n",
       "    </tr>\n",
       "    <tr>\n",
       "      <th>2385619</th>\n",
       "      <td>F9</td>\n",
       "      <td>LAS</td>\n",
       "      <td>IAD</td>\n",
       "    </tr>\n",
       "  </tbody>\n",
       "</table>\n",
       "</div>"
      ],
      "text/plain": [
       "        AIRLINE ORIGIN_AIRPORT DESTINATION_AIRPORT\n",
       "2385615      NK            LAS                 IAH\n",
       "2385616      AA            SEA                 DFW\n",
       "2385617      DL            ANC                 SLC\n",
       "2385618      US            SLC                 CLT\n",
       "2385619      F9            LAS                 IAD"
      ]
     },
     "execution_count": 80,
     "metadata": {},
     "output_type": "execute_result"
    }
   ],
   "source": [
    "flights_data2.head()"
   ]
  },
  {
   "cell_type": "code",
   "execution_count": null,
   "metadata": {
    "collapsed": true
   },
   "outputs": [],
   "source": []
  }
 ],
 "metadata": {
  "kernelspec": {
   "display_name": "Python 3",
   "language": "python",
   "name": "python3"
  },
  "language_info": {
   "codemirror_mode": {
    "name": "ipython",
    "version": 3
   },
   "file_extension": ".py",
   "mimetype": "text/x-python",
   "name": "python",
   "nbconvert_exporter": "python",
   "pygments_lexer": "ipython3",
   "version": "3.6.1"
  }
 },
 "nbformat": 4,
 "nbformat_minor": 2
}
